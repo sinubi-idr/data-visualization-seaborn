{
  "nbformat": 4,
  "nbformat_minor": 0,
  "metadata": {
    "colab": {
      "provenance": [],
      "toc_visible": true,
      "authorship_tag": "ABX9TyM3uOO8uBFsGOmj3WLICM4c"
    },
    "kernelspec": {
      "name": "python3",
      "display_name": "Python 3"
    },
    "language_info": {
      "name": "python"
    }
  },
  "cells": [
    {
      "cell_type": "markdown",
      "source": [
        "# **Data Visualization - Python - Seaborn**\n",
        "\n",
        "Simple Bar Chart\n",
        "\n",
        "[![Open In Colab](https://colab.research.google.com/assets/colab-badge.svg)](https://colab.research.google.com/drive/1zPoKTJW-6ffWqwIv1Qxq1wC-ujDrynBJ?usp=sharing)\n",
        "\n",
        "*Oleh : Sinubi*"
      ],
      "metadata": {
        "id": "G99skov9tpQM"
      }
    },
    {
      "cell_type": "markdown",
      "source": [
        "## Persiapan"
      ],
      "metadata": {
        "id": "SVUnmMAAvR42"
      }
    },
    {
      "cell_type": "code",
      "source": [
        "# Import Packages/Libraries yang diperlukan\n",
        "import matplotlib\n",
        "import matplotlib.pyplot as plt\n",
        "import seaborn as sns\n",
        "import numpy as np\n",
        "import pandas as pd\n",
        "import gdown"
      ],
      "metadata": {
        "id": "gMGUIgiJvU1N"
      },
      "execution_count": null,
      "outputs": []
    },
    {
      "cell_type": "code",
      "source": [
        "# Menampilkan Versi Packages yang digunakan\n",
        "print(\"Versi Matplotlib : \", matplotlib.__version__)\n",
        "print(\"Versi Seaborn    : \", sns.__version__)\n",
        "print(\"Versi Numpy      : \", np.__version__)\n",
        "print(\"Versi Pandas     : \", pd.__version__)\n",
        "print(\"Versi Gdown      : \", gdown.__version__)"
      ],
      "metadata": {
        "colab": {
          "base_uri": "https://localhost:8080/"
        },
        "id": "dL21zyPLwJgf",
        "outputId": "e05f8c0c-6472-4bb3-aba2-7e5adbff9b38"
      },
      "execution_count": null,
      "outputs": [
        {
          "output_type": "stream",
          "name": "stdout",
          "text": [
            "Versi Matplotlib :  3.7.1\n",
            "Versi Seaborn    :  0.12.2\n",
            "Versi Numpy      :  1.23.5\n",
            "Versi Pandas     :  1.5.3\n",
            "Versi Gdown      :  4.6.6\n"
          ]
        }
      ]
    },
    {
      "cell_type": "code",
      "source": [
        "# Download Dataset Sinubi\n",
        "gdown.download_folder(\"https://drive.google.com/drive/folders/1d0O3AuXl4z8VSj75v6WWuaxtUWXnmSYB?usp=sharing\")"
      ],
      "metadata": {
        "colab": {
          "base_uri": "https://localhost:8080/"
        },
        "id": "mHnHRY6TvzJ5",
        "outputId": "ef04897a-d53e-483c-d417-e4b00e4ea63a"
      },
      "execution_count": null,
      "outputs": [
        {
          "output_type": "stream",
          "name": "stderr",
          "text": [
            "Retrieving folder list\n"
          ]
        },
        {
          "output_type": "stream",
          "name": "stdout",
          "text": [
            "Processing file 1Z1oDLjOAedliOGfI_zRiV9UgqXUC605G Dataset SJ 01.xlsx\n",
            "Processing file 1gme7jjukWjJrfeKG01aBBx8CTS3cHxOu Dataset SJ 02.xlsx\n",
            "Building directory structure completed\n"
          ]
        },
        {
          "output_type": "stream",
          "name": "stderr",
          "text": [
            "Retrieving folder list completed\n",
            "Building directory structure\n",
            "Downloading...\n",
            "From: https://drive.google.com/uc?id=1Z1oDLjOAedliOGfI_zRiV9UgqXUC605G\n",
            "To: /content/Sinubi's Journey/Dataset SJ 01.xlsx\n",
            "100%|██████████| 12.2k/12.2k [00:00<00:00, 5.76MB/s]\n",
            "Downloading...\n",
            "From: https://drive.google.com/uc?id=1gme7jjukWjJrfeKG01aBBx8CTS3cHxOu\n",
            "To: /content/Sinubi's Journey/Dataset SJ 02.xlsx\n",
            "100%|██████████| 12.2k/12.2k [00:00<00:00, 12.3MB/s]\n",
            "Download completed\n"
          ]
        },
        {
          "output_type": "execute_result",
          "data": {
            "text/plain": [
              "[\"/content/Sinubi's Journey/Dataset SJ 01.xlsx\",\n",
              " \"/content/Sinubi's Journey/Dataset SJ 02.xlsx\"]"
            ]
          },
          "metadata": {},
          "execution_count": 3
        }
      ]
    },
    {
      "cell_type": "code",
      "source": [
        "# Import Dataset Sinubi\n",
        "nama_file = \"./Sinubi's Journey/Dataset SJ 01.xlsx\"\n",
        "\n",
        "data_df = pd.read_excel(nama_file, sheet_name='data')"
      ],
      "metadata": {
        "id": "-mnT2MgXwB9X"
      },
      "execution_count": null,
      "outputs": []
    },
    {
      "cell_type": "code",
      "source": [
        "# Menampilkan Beberapa Data Awal pada Dataset Sinubi\n",
        "data_df.head()"
      ],
      "metadata": {
        "colab": {
          "base_uri": "https://localhost:8080/",
          "height": 206
        },
        "id": "bKvAF0hUzU3F",
        "outputId": "73e5763d-3f44-48c1-a681-492c6c71bdb9"
      },
      "execution_count": null,
      "outputs": [
        {
          "output_type": "execute_result",
          "data": {
            "text/plain": [
              "  Nomor Induk    Nama Jenis Kelamin      Mata Pelajaran Akses Internet  \\\n",
              "0     DS23001  Sinubi          Pria  Pemrograman Python            Ada   \n",
              "1     DS23002    Budi          Pria  Pemrograman Python            Ada   \n",
              "2     DS23003     Ayu        Wanita  Pemrograman Python            Ada   \n",
              "3     DS23004    Tono          Pria    Machine Learning            Ada   \n",
              "4     DS23005   Putri        Wanita    Machine Learning            Ada   \n",
              "\n",
              "   Waktu Belajar  Nilai  Lulus  \n",
              "0            8.0     85  Lulus  \n",
              "1            7.5     80  Lulus  \n",
              "2            8.5     90  Lulus  \n",
              "3            8.2     88  Lulus  \n",
              "4            7.7     83  Lulus  "
            ],
            "text/html": [
              "\n",
              "  <div id=\"df-5bc04bb0-1f7e-4cc2-aa7f-54bc686748fb\" class=\"colab-df-container\">\n",
              "    <div>\n",
              "<style scoped>\n",
              "    .dataframe tbody tr th:only-of-type {\n",
              "        vertical-align: middle;\n",
              "    }\n",
              "\n",
              "    .dataframe tbody tr th {\n",
              "        vertical-align: top;\n",
              "    }\n",
              "\n",
              "    .dataframe thead th {\n",
              "        text-align: right;\n",
              "    }\n",
              "</style>\n",
              "<table border=\"1\" class=\"dataframe\">\n",
              "  <thead>\n",
              "    <tr style=\"text-align: right;\">\n",
              "      <th></th>\n",
              "      <th>Nomor Induk</th>\n",
              "      <th>Nama</th>\n",
              "      <th>Jenis Kelamin</th>\n",
              "      <th>Mata Pelajaran</th>\n",
              "      <th>Akses Internet</th>\n",
              "      <th>Waktu Belajar</th>\n",
              "      <th>Nilai</th>\n",
              "      <th>Lulus</th>\n",
              "    </tr>\n",
              "  </thead>\n",
              "  <tbody>\n",
              "    <tr>\n",
              "      <th>0</th>\n",
              "      <td>DS23001</td>\n",
              "      <td>Sinubi</td>\n",
              "      <td>Pria</td>\n",
              "      <td>Pemrograman Python</td>\n",
              "      <td>Ada</td>\n",
              "      <td>8.0</td>\n",
              "      <td>85</td>\n",
              "      <td>Lulus</td>\n",
              "    </tr>\n",
              "    <tr>\n",
              "      <th>1</th>\n",
              "      <td>DS23002</td>\n",
              "      <td>Budi</td>\n",
              "      <td>Pria</td>\n",
              "      <td>Pemrograman Python</td>\n",
              "      <td>Ada</td>\n",
              "      <td>7.5</td>\n",
              "      <td>80</td>\n",
              "      <td>Lulus</td>\n",
              "    </tr>\n",
              "    <tr>\n",
              "      <th>2</th>\n",
              "      <td>DS23003</td>\n",
              "      <td>Ayu</td>\n",
              "      <td>Wanita</td>\n",
              "      <td>Pemrograman Python</td>\n",
              "      <td>Ada</td>\n",
              "      <td>8.5</td>\n",
              "      <td>90</td>\n",
              "      <td>Lulus</td>\n",
              "    </tr>\n",
              "    <tr>\n",
              "      <th>3</th>\n",
              "      <td>DS23004</td>\n",
              "      <td>Tono</td>\n",
              "      <td>Pria</td>\n",
              "      <td>Machine Learning</td>\n",
              "      <td>Ada</td>\n",
              "      <td>8.2</td>\n",
              "      <td>88</td>\n",
              "      <td>Lulus</td>\n",
              "    </tr>\n",
              "    <tr>\n",
              "      <th>4</th>\n",
              "      <td>DS23005</td>\n",
              "      <td>Putri</td>\n",
              "      <td>Wanita</td>\n",
              "      <td>Machine Learning</td>\n",
              "      <td>Ada</td>\n",
              "      <td>7.7</td>\n",
              "      <td>83</td>\n",
              "      <td>Lulus</td>\n",
              "    </tr>\n",
              "  </tbody>\n",
              "</table>\n",
              "</div>\n",
              "    <div class=\"colab-df-buttons\">\n",
              "\n",
              "  <div class=\"colab-df-container\">\n",
              "    <button class=\"colab-df-convert\" onclick=\"convertToInteractive('df-5bc04bb0-1f7e-4cc2-aa7f-54bc686748fb')\"\n",
              "            title=\"Convert this dataframe to an interactive table.\"\n",
              "            style=\"display:none;\">\n",
              "\n",
              "  <svg xmlns=\"http://www.w3.org/2000/svg\" height=\"24px\" viewBox=\"0 -960 960 960\">\n",
              "    <path d=\"M120-120v-720h720v720H120Zm60-500h600v-160H180v160Zm220 220h160v-160H400v160Zm0 220h160v-160H400v160ZM180-400h160v-160H180v160Zm440 0h160v-160H620v160ZM180-180h160v-160H180v160Zm440 0h160v-160H620v160Z\"/>\n",
              "  </svg>\n",
              "    </button>\n",
              "\n",
              "  <style>\n",
              "    .colab-df-container {\n",
              "      display:flex;\n",
              "      gap: 12px;\n",
              "    }\n",
              "\n",
              "    .colab-df-convert {\n",
              "      background-color: #E8F0FE;\n",
              "      border: none;\n",
              "      border-radius: 50%;\n",
              "      cursor: pointer;\n",
              "      display: none;\n",
              "      fill: #1967D2;\n",
              "      height: 32px;\n",
              "      padding: 0 0 0 0;\n",
              "      width: 32px;\n",
              "    }\n",
              "\n",
              "    .colab-df-convert:hover {\n",
              "      background-color: #E2EBFA;\n",
              "      box-shadow: 0px 1px 2px rgba(60, 64, 67, 0.3), 0px 1px 3px 1px rgba(60, 64, 67, 0.15);\n",
              "      fill: #174EA6;\n",
              "    }\n",
              "\n",
              "    .colab-df-buttons div {\n",
              "      margin-bottom: 4px;\n",
              "    }\n",
              "\n",
              "    [theme=dark] .colab-df-convert {\n",
              "      background-color: #3B4455;\n",
              "      fill: #D2E3FC;\n",
              "    }\n",
              "\n",
              "    [theme=dark] .colab-df-convert:hover {\n",
              "      background-color: #434B5C;\n",
              "      box-shadow: 0px 1px 3px 1px rgba(0, 0, 0, 0.15);\n",
              "      filter: drop-shadow(0px 1px 2px rgba(0, 0, 0, 0.3));\n",
              "      fill: #FFFFFF;\n",
              "    }\n",
              "  </style>\n",
              "\n",
              "    <script>\n",
              "      const buttonEl =\n",
              "        document.querySelector('#df-5bc04bb0-1f7e-4cc2-aa7f-54bc686748fb button.colab-df-convert');\n",
              "      buttonEl.style.display =\n",
              "        google.colab.kernel.accessAllowed ? 'block' : 'none';\n",
              "\n",
              "      async function convertToInteractive(key) {\n",
              "        const element = document.querySelector('#df-5bc04bb0-1f7e-4cc2-aa7f-54bc686748fb');\n",
              "        const dataTable =\n",
              "          await google.colab.kernel.invokeFunction('convertToInteractive',\n",
              "                                                    [key], {});\n",
              "        if (!dataTable) return;\n",
              "\n",
              "        const docLinkHtml = 'Like what you see? Visit the ' +\n",
              "          '<a target=\"_blank\" href=https://colab.research.google.com/notebooks/data_table.ipynb>data table notebook</a>'\n",
              "          + ' to learn more about interactive tables.';\n",
              "        element.innerHTML = '';\n",
              "        dataTable['output_type'] = 'display_data';\n",
              "        await google.colab.output.renderOutput(dataTable, element);\n",
              "        const docLink = document.createElement('div');\n",
              "        docLink.innerHTML = docLinkHtml;\n",
              "        element.appendChild(docLink);\n",
              "      }\n",
              "    </script>\n",
              "  </div>\n",
              "\n",
              "\n",
              "<div id=\"df-79be81d5-a10c-4b86-a57f-133a8684bf58\">\n",
              "  <button class=\"colab-df-quickchart\" onclick=\"quickchart('df-79be81d5-a10c-4b86-a57f-133a8684bf58')\"\n",
              "            title=\"Suggest charts\"\n",
              "            style=\"display:none;\">\n",
              "\n",
              "<svg xmlns=\"http://www.w3.org/2000/svg\" height=\"24px\"viewBox=\"0 0 24 24\"\n",
              "     width=\"24px\">\n",
              "    <g>\n",
              "        <path d=\"M19 3H5c-1.1 0-2 .9-2 2v14c0 1.1.9 2 2 2h14c1.1 0 2-.9 2-2V5c0-1.1-.9-2-2-2zM9 17H7v-7h2v7zm4 0h-2V7h2v10zm4 0h-2v-4h2v4z\"/>\n",
              "    </g>\n",
              "</svg>\n",
              "  </button>\n",
              "\n",
              "<style>\n",
              "  .colab-df-quickchart {\n",
              "      --bg-color: #E8F0FE;\n",
              "      --fill-color: #1967D2;\n",
              "      --hover-bg-color: #E2EBFA;\n",
              "      --hover-fill-color: #174EA6;\n",
              "      --disabled-fill-color: #AAA;\n",
              "      --disabled-bg-color: #DDD;\n",
              "  }\n",
              "\n",
              "  [theme=dark] .colab-df-quickchart {\n",
              "      --bg-color: #3B4455;\n",
              "      --fill-color: #D2E3FC;\n",
              "      --hover-bg-color: #434B5C;\n",
              "      --hover-fill-color: #FFFFFF;\n",
              "      --disabled-bg-color: #3B4455;\n",
              "      --disabled-fill-color: #666;\n",
              "  }\n",
              "\n",
              "  .colab-df-quickchart {\n",
              "    background-color: var(--bg-color);\n",
              "    border: none;\n",
              "    border-radius: 50%;\n",
              "    cursor: pointer;\n",
              "    display: none;\n",
              "    fill: var(--fill-color);\n",
              "    height: 32px;\n",
              "    padding: 0;\n",
              "    width: 32px;\n",
              "  }\n",
              "\n",
              "  .colab-df-quickchart:hover {\n",
              "    background-color: var(--hover-bg-color);\n",
              "    box-shadow: 0 1px 2px rgba(60, 64, 67, 0.3), 0 1px 3px 1px rgba(60, 64, 67, 0.15);\n",
              "    fill: var(--button-hover-fill-color);\n",
              "  }\n",
              "\n",
              "  .colab-df-quickchart-complete:disabled,\n",
              "  .colab-df-quickchart-complete:disabled:hover {\n",
              "    background-color: var(--disabled-bg-color);\n",
              "    fill: var(--disabled-fill-color);\n",
              "    box-shadow: none;\n",
              "  }\n",
              "\n",
              "  .colab-df-spinner {\n",
              "    border: 2px solid var(--fill-color);\n",
              "    border-color: transparent;\n",
              "    border-bottom-color: var(--fill-color);\n",
              "    animation:\n",
              "      spin 1s steps(1) infinite;\n",
              "  }\n",
              "\n",
              "  @keyframes spin {\n",
              "    0% {\n",
              "      border-color: transparent;\n",
              "      border-bottom-color: var(--fill-color);\n",
              "      border-left-color: var(--fill-color);\n",
              "    }\n",
              "    20% {\n",
              "      border-color: transparent;\n",
              "      border-left-color: var(--fill-color);\n",
              "      border-top-color: var(--fill-color);\n",
              "    }\n",
              "    30% {\n",
              "      border-color: transparent;\n",
              "      border-left-color: var(--fill-color);\n",
              "      border-top-color: var(--fill-color);\n",
              "      border-right-color: var(--fill-color);\n",
              "    }\n",
              "    40% {\n",
              "      border-color: transparent;\n",
              "      border-right-color: var(--fill-color);\n",
              "      border-top-color: var(--fill-color);\n",
              "    }\n",
              "    60% {\n",
              "      border-color: transparent;\n",
              "      border-right-color: var(--fill-color);\n",
              "    }\n",
              "    80% {\n",
              "      border-color: transparent;\n",
              "      border-right-color: var(--fill-color);\n",
              "      border-bottom-color: var(--fill-color);\n",
              "    }\n",
              "    90% {\n",
              "      border-color: transparent;\n",
              "      border-bottom-color: var(--fill-color);\n",
              "    }\n",
              "  }\n",
              "</style>\n",
              "\n",
              "  <script>\n",
              "    async function quickchart(key) {\n",
              "      const quickchartButtonEl =\n",
              "        document.querySelector('#' + key + ' button');\n",
              "      quickchartButtonEl.disabled = true;  // To prevent multiple clicks.\n",
              "      quickchartButtonEl.classList.add('colab-df-spinner');\n",
              "      try {\n",
              "        const charts = await google.colab.kernel.invokeFunction(\n",
              "            'suggestCharts', [key], {});\n",
              "      } catch (error) {\n",
              "        console.error('Error during call to suggestCharts:', error);\n",
              "      }\n",
              "      quickchartButtonEl.classList.remove('colab-df-spinner');\n",
              "      quickchartButtonEl.classList.add('colab-df-quickchart-complete');\n",
              "    }\n",
              "    (() => {\n",
              "      let quickchartButtonEl =\n",
              "        document.querySelector('#df-79be81d5-a10c-4b86-a57f-133a8684bf58 button');\n",
              "      quickchartButtonEl.style.display =\n",
              "        google.colab.kernel.accessAllowed ? 'block' : 'none';\n",
              "    })();\n",
              "  </script>\n",
              "</div>\n",
              "    </div>\n",
              "  </div>\n"
            ]
          },
          "metadata": {},
          "execution_count": 5
        }
      ]
    },
    {
      "cell_type": "code",
      "source": [
        "# Membuat Subset (Filter) Dataset untuk \"Mata Pelajaran\" = \"Pemrograman Python\" saja\n",
        "data_df = data_df[data_df[\"Mata Pelajaran\"] == \"Pemrograman Python\"]"
      ],
      "metadata": {
        "id": "sImuiLtJVb-o"
      },
      "execution_count": null,
      "outputs": []
    },
    {
      "cell_type": "code",
      "source": [
        "# Menampilkan Statistik (Frekuensi) dari Variabel \"Jenis Kelamin\" pada Dataset Sinubi\n",
        "data_df['Jenis Kelamin'].value_counts()"
      ],
      "metadata": {
        "colab": {
          "base_uri": "https://localhost:8080/"
        },
        "id": "3pifD2gc011t",
        "outputId": "cc24d56f-7c50-4a9e-9562-7c5e37d356d4"
      },
      "execution_count": null,
      "outputs": [
        {
          "output_type": "execute_result",
          "data": {
            "text/plain": [
              "Pria      17\n",
              "Wanita    13\n",
              "Name: Jenis Kelamin, dtype: int64"
            ]
          },
          "metadata": {},
          "execution_count": 7
        }
      ]
    },
    {
      "cell_type": "markdown",
      "source": [
        "## Simple *Bar Chart* dari DataFrame"
      ],
      "metadata": {
        "id": "UcwFs83myg3b"
      }
    },
    {
      "cell_type": "code",
      "source": [
        "# Membuat Simple Bar Chart\n",
        "plt.figure(figsize=(5,3))                           # Ukuran Gambar (dalam inci)\n",
        "\n",
        "sns.countplot(data = data_df,\n",
        "              x = \"Jenis Kelamin\")\n",
        "\n",
        "plt.title('Simple Bar Chart dari DataFrame')        # Judul Gambar\n",
        "plt.xlabel('Jenis Kelamin')                         # Keterangan untuk Sumbu X\n",
        "plt.ylabel('Jumlah Siswa')                          # Keterangan untuk Sumbu Y\n",
        "plt.show()"
      ],
      "metadata": {
        "colab": {
          "base_uri": "https://localhost:8080/",
          "height": 333
        },
        "id": "tissMpWjzI5L",
        "outputId": "1d86146e-e1d7-4bed-ab45-ffc8710ca8a3"
      },
      "execution_count": null,
      "outputs": [
        {
          "output_type": "display_data",
          "data": {
            "text/plain": [
              "<Figure size 500x300 with 1 Axes>"
            ],
            "image/png": "[encoded data removed]"
          },
          "metadata": {}
        }
      ]
    },
    {
      "cell_type": "markdown",
      "source": [
        "### Membuat *Bar Chart* menjadi Horizontal"
      ],
      "metadata": {
        "id": "-d_cdncg2UdU"
      }
    },
    {
      "cell_type": "code",
      "source": [
        "# Membuat Simple Bar Chart\n",
        "plt.figure(figsize=(5,3))                           # Ukuran Gambar (dalam inci)\n",
        "\n",
        "sns.countplot(data = data_df,\n",
        "              y = \"Jenis Kelamin\")\n",
        "\n",
        "plt.title('Simple Bar Chart dari DataFrame')        # Judul Gambar\n",
        "plt.xlabel('Jumlah Siswa')                          # Keterangan untuk Sumbu X\n",
        "plt.ylabel('Jenis Kelamin')                         # Keterangan untuk Sumbu Y\n",
        "plt.show()"
      ],
      "metadata": {
        "colab": {
          "base_uri": "https://localhost:8080/",
          "height": 333
        },
        "id": "Q9cOR1p32Vwc",
        "outputId": "718fddce-7b0e-4dc3-ff08-3eba63e7831f"
      },
      "execution_count": null,
      "outputs": [
        {
          "output_type": "display_data",
          "data": {
            "text/plain": [
              "<Figure size 500x300 with 1 Axes>"
            ],
            "image/png": "[encoded data removed]"
          },
          "metadata": {}
        }
      ]
    },
    {
      "cell_type": "markdown",
      "source": [
        "### Mengubah Warna Semua *Bar* pada *Bar Chart*"
      ],
      "metadata": {
        "id": "EhLqdhxB3h8O"
      }
    },
    {
      "cell_type": "code",
      "source": [
        "# Membuat Simple Bar Chart\n",
        "plt.figure(figsize=(5,3))                           # Ukuran Gambar (dalam inci)\n",
        "\n",
        "sns.countplot(data = data_df,\n",
        "              x = \"Jenis Kelamin\",\n",
        "              color = \"red\")\n",
        "\n",
        "plt.title('Simple Bar Chart dari DataFrame')        # Judul Gambar\n",
        "plt.xlabel('Jenis Kelamin')                         # Keterangan untuk Sumbu X\n",
        "plt.ylabel('Jumlah Siswa')                          # Keterangan untuk Sumbu Y\n",
        "plt.show()"
      ],
      "metadata": {
        "colab": {
          "base_uri": "https://localhost:8080/",
          "height": 333
        },
        "id": "PjeVxcP33iU_",
        "outputId": "9517c775-8039-4297-8717-1bbb776c1278"
      },
      "execution_count": null,
      "outputs": [
        {
          "output_type": "display_data",
          "data": {
            "text/plain": [
              "<Figure size 500x300 with 1 Axes>"
            ],
            "image/png": "[encoded data removed]"
          },
          "metadata": {}
        }
      ]
    },
    {
      "cell_type": "markdown",
      "source": [
        "### Mengubah Warna Setiap *Bar* pada *Bar Chart*"
      ],
      "metadata": {
        "id": "4swlymBO_6fX"
      }
    },
    {
      "cell_type": "code",
      "source": [
        "# Menyiapkan Warna Setiap Bar\n",
        "warna_bar = ['skyblue','pink']\n",
        "\n",
        "# Membuat Simple Bar Chart\n",
        "plt.figure(figsize=(5,3))                           # Ukuran Gambar (dalam inci)\n",
        "\n",
        "sns.countplot(data = data_df,\n",
        "              x = \"Jenis Kelamin\",\n",
        "              palette = warna_bar)\n",
        "\n",
        "plt.title('Simple Bar Chart dari DataFrame')        # Judul Gambar\n",
        "plt.xlabel('Jenis Kelamin')                         # Keterangan untuk Sumbu X\n",
        "plt.ylabel('Jumlah Siswa')                          # Keterangan untuk Sumbu Y\n",
        "plt.show()"
      ],
      "metadata": {
        "colab": {
          "base_uri": "https://localhost:8080/",
          "height": 333
        },
        "id": "JLM3KmhE_y6v",
        "outputId": "38900cfe-8792-44e7-f8ac-6c825536c5d2"
      },
      "execution_count": null,
      "outputs": [
        {
          "output_type": "display_data",
          "data": {
            "text/plain": [
              "<Figure size 500x300 with 1 Axes>"
            ],
            "image/png": "[encoded data removed]"
          },
          "metadata": {}
        }
      ]
    },
    {
      "cell_type": "markdown",
      "source": [
        "### Menampilkan Nilai pada *Bar Chart*"
      ],
      "metadata": {
        "id": "Urgc8StpXWnz"
      }
    },
    {
      "cell_type": "code",
      "source": [
        "# Membuat Simple Bar Chart\n",
        "fig, ax = plt.subplots(1, figsize=(5,3))            # Ukuran Gambar (dalam inci)\n",
        "\n",
        "fig = sns.countplot(data = data_df,\n",
        "                    x = \"Jenis Kelamin\")\n",
        "\n",
        "ax.bar_label(ax.containers[0])                      # Menampilkan Nilai pada Bar Chart\n",
        "\n",
        "plt.title('Simple Bar Chart dari DataFrame')        # Judul Gambar\n",
        "plt.xlabel('Jenis Kelamin')                         # Keterangan untuk Sumbu X\n",
        "plt.ylabel('Jumlah Siswa')                          # Keterangan untuk Sumbu Y\n",
        "plt.show()"
      ],
      "metadata": {
        "colab": {
          "base_uri": "https://localhost:8080/",
          "height": 333
        },
        "id": "m8e81nnfXa9Z",
        "outputId": "99d87463-b159-44bf-e397-c547b69b0ce9"
      },
      "execution_count": null,
      "outputs": [
        {
          "output_type": "display_data",
          "data": {
            "text/plain": [
              "<Figure size 500x300 with 1 Axes>"
            ],
            "image/png": "[encoded data removed]"
          },
          "metadata": {}
        }
      ]
    },
    {
      "cell_type": "markdown",
      "source": [
        "# Referensi Eksternal\n",
        "\n",
        "*   https://seaborn.pydata.org/generated/seaborn.countplot.html\n",
        "*   https://www.geeksforgeeks.org/countplot-using-seaborn-in-python/\n",
        "*   https://datagy.io/seaborn-countplot/\n",
        "*   https://www.tutorialspoint.com/seaborn/seaborn_countplot_method.htm\n",
        "\n"
      ],
      "metadata": {
        "id": "sG_ASLwmuidI"
      }
    }
  ]
}