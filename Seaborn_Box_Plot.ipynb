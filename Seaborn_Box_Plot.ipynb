{
  "nbformat": 4,
  "nbformat_minor": 0,
  "metadata": {
    "colab": {
      "provenance": [],
      "toc_visible": true,
      "authorship_tag": "ABX9TyMm1RoXDge5ciQPrv4NfmeR"
    },
    "kernelspec": {
      "name": "python3",
      "display_name": "Python 3"
    },
    "language_info": {
      "name": "python"
    }
  },
  "cells": [
    {
      "cell_type": "markdown",
      "source": [
        "# **Data Visualization - Python - Seaborn**\n",
        "\n",
        "Box Plot\n",
        "\n",
        "[![Open In Colab](https://colab.research.google.com/assets/colab-badge.svg)](https://colab.research.google.com/drive/1qL9wzqDLPUt52RFDQ_Jn4LAOsfTBqJIh?usp=sharing)\n",
        "\n",
        "*Oleh : Sinubi*"
      ],
      "metadata": {
        "id": "G99skov9tpQM"
      }
    },
    {
      "cell_type": "markdown",
      "source": [
        "## Persiapan"
      ],
      "metadata": {
        "id": "SVUnmMAAvR42"
      }
    },
    {
      "cell_type": "code",
      "source": [
        "# Import Packages/Libraries yang diperlukan\n",
        "import matplotlib\n",
        "import matplotlib.pyplot as plt\n",
        "import seaborn as sns\n",
        "import numpy as np\n",
        "import pandas as pd\n",
        "import gdown"
      ],
      "metadata": {
        "id": "gMGUIgiJvU1N"
      },
      "execution_count": null,
      "outputs": []
    },
    {
      "cell_type": "code",
      "source": [
        "# Menampilkan Versi Packages yang digunakan\n",
        "print(\"Versi Matplotlib : \", matplotlib.__version__)\n",
        "print(\"Versi Seaborn    : \", sns.__version__)\n",
        "print(\"Versi Numpy      : \", np.__version__)\n",
        "print(\"Versi Pandas     : \", pd.__version__)\n",
        "print(\"Versi Gdown      : \", gdown.__version__)"
      ],
      "metadata": {
        "colab": {
          "base_uri": "https://localhost:8080/"
        },
        "id": "dL21zyPLwJgf",
        "outputId": "f4b06f5f-68db-467f-e2d1-f0e78c9ec7a2"
      },
      "execution_count": null,
      "outputs": [
        {
          "output_type": "stream",
          "name": "stdout",
          "text": [
            "Versi Matplotlib :  3.7.1\n",
            "Versi Seaborn    :  0.12.2\n",
            "Versi Numpy      :  1.23.5\n",
            "Versi Pandas     :  1.5.3\n",
            "Versi Gdown      :  4.6.6\n"
          ]
        }
      ]
    },
    {
      "cell_type": "code",
      "source": [
        "# Download Dataset Sinubi\n",
        "gdown.download_folder(\"https://drive.google.com/drive/folders/1d0O3AuXl4z8VSj75v6WWuaxtUWXnmSYB?usp=sharing\")"
      ],
      "metadata": {
        "colab": {
          "base_uri": "https://localhost:8080/"
        },
        "id": "mHnHRY6TvzJ5",
        "outputId": "584375e6-c891-4051-a49c-66f6b36e97ba"
      },
      "execution_count": null,
      "outputs": [
        {
          "output_type": "stream",
          "name": "stderr",
          "text": [
            "Retrieving folder list\n"
          ]
        },
        {
          "output_type": "stream",
          "name": "stdout",
          "text": [
            "Processing file 1Z1oDLjOAedliOGfI_zRiV9UgqXUC605G Dataset SJ 01.xlsx\n",
            "Processing file 1gme7jjukWjJrfeKG01aBBx8CTS3cHxOu Dataset SJ 02.xlsx\n",
            "Building directory structure completed\n"
          ]
        },
        {
          "output_type": "stream",
          "name": "stderr",
          "text": [
            "Retrieving folder list completed\n",
            "Building directory structure\n",
            "Downloading...\n",
            "From: https://drive.google.com/uc?id=1Z1oDLjOAedliOGfI_zRiV9UgqXUC605G\n",
            "To: /content/Sinubi's Journey/Dataset SJ 01.xlsx\n",
            "100%|██████████| 12.2k/12.2k [00:00<00:00, 22.9MB/s]\n",
            "Downloading...\n",
            "From: https://drive.google.com/uc?id=1gme7jjukWjJrfeKG01aBBx8CTS3cHxOu\n",
            "To: /content/Sinubi's Journey/Dataset SJ 02.xlsx\n",
            "100%|██████████| 12.2k/12.2k [00:00<00:00, 15.6MB/s]\n",
            "Download completed\n"
          ]
        },
        {
          "output_type": "execute_result",
          "data": {
            "text/plain": [
              "[\"/content/Sinubi's Journey/Dataset SJ 01.xlsx\",\n",
              " \"/content/Sinubi's Journey/Dataset SJ 02.xlsx\"]"
            ]
          },
          "metadata": {},
          "execution_count": 3
        }
      ]
    },
    {
      "cell_type": "code",
      "source": [
        "# Import Dataset Sinubi\n",
        "nama_file = \"./Sinubi's Journey/Dataset SJ 01.xlsx\"\n",
        "\n",
        "data_df = pd.read_excel(nama_file, sheet_name='data')"
      ],
      "metadata": {
        "id": "-mnT2MgXwB9X"
      },
      "execution_count": null,
      "outputs": []
    },
    {
      "cell_type": "code",
      "source": [
        "# Menampilkan Beberapa Data Awal pada Dataset Sinubi\n",
        "data_df.head()"
      ],
      "metadata": {
        "colab": {
          "base_uri": "https://localhost:8080/",
          "height": 206
        },
        "id": "bKvAF0hUzU3F",
        "outputId": "456c934e-ced8-42d0-f832-f777f4481df5"
      },
      "execution_count": null,
      "outputs": [
        {
          "output_type": "execute_result",
          "data": {
            "text/plain": [
              "  Nomor Induk    Nama Jenis Kelamin      Mata Pelajaran Akses Internet  \\\n",
              "0     DS23001  Sinubi          Pria  Pemrograman Python            Ada   \n",
              "1     DS23002    Budi          Pria  Pemrograman Python            Ada   \n",
              "2     DS23003     Ayu        Wanita  Pemrograman Python            Ada   \n",
              "3     DS23004    Tono          Pria    Machine Learning            Ada   \n",
              "4     DS23005   Putri        Wanita    Machine Learning            Ada   \n",
              "\n",
              "   Waktu Belajar  Nilai  Lulus  \n",
              "0            8.0     85  Lulus  \n",
              "1            7.5     80  Lulus  \n",
              "2            8.5     90  Lulus  \n",
              "3            8.2     88  Lulus  \n",
              "4            7.7     83  Lulus  "
            ],
            "text/html": [
              "\n",
              "  <div id=\"df-e26f23bf-a79c-4664-ba11-a9c447278cfa\" class=\"colab-df-container\">\n",
              "    <div>\n",
              "<style scoped>\n",
              "    .dataframe tbody tr th:only-of-type {\n",
              "        vertical-align: middle;\n",
              "    }\n",
              "\n",
              "    .dataframe tbody tr th {\n",
              "        vertical-align: top;\n",
              "    }\n",
              "\n",
              "    .dataframe thead th {\n",
              "        text-align: right;\n",
              "    }\n",
              "</style>\n",
              "<table border=\"1\" class=\"dataframe\">\n",
              "  <thead>\n",
              "    <tr style=\"text-align: right;\">\n",
              "      <th></th>\n",
              "      <th>Nomor Induk</th>\n",
              "      <th>Nama</th>\n",
              "      <th>Jenis Kelamin</th>\n",
              "      <th>Mata Pelajaran</th>\n",
              "      <th>Akses Internet</th>\n",
              "      <th>Waktu Belajar</th>\n",
              "      <th>Nilai</th>\n",
              "      <th>Lulus</th>\n",
              "    </tr>\n",
              "  </thead>\n",
              "  <tbody>\n",
              "    <tr>\n",
              "      <th>0</th>\n",
              "      <td>DS23001</td>\n",
              "      <td>Sinubi</td>\n",
              "      <td>Pria</td>\n",
              "      <td>Pemrograman Python</td>\n",
              "      <td>Ada</td>\n",
              "      <td>8.0</td>\n",
              "      <td>85</td>\n",
              "      <td>Lulus</td>\n",
              "    </tr>\n",
              "    <tr>\n",
              "      <th>1</th>\n",
              "      <td>DS23002</td>\n",
              "      <td>Budi</td>\n",
              "      <td>Pria</td>\n",
              "      <td>Pemrograman Python</td>\n",
              "      <td>Ada</td>\n",
              "      <td>7.5</td>\n",
              "      <td>80</td>\n",
              "      <td>Lulus</td>\n",
              "    </tr>\n",
              "    <tr>\n",
              "      <th>2</th>\n",
              "      <td>DS23003</td>\n",
              "      <td>Ayu</td>\n",
              "      <td>Wanita</td>\n",
              "      <td>Pemrograman Python</td>\n",
              "      <td>Ada</td>\n",
              "      <td>8.5</td>\n",
              "      <td>90</td>\n",
              "      <td>Lulus</td>\n",
              "    </tr>\n",
              "    <tr>\n",
              "      <th>3</th>\n",
              "      <td>DS23004</td>\n",
              "      <td>Tono</td>\n",
              "      <td>Pria</td>\n",
              "      <td>Machine Learning</td>\n",
              "      <td>Ada</td>\n",
              "      <td>8.2</td>\n",
              "      <td>88</td>\n",
              "      <td>Lulus</td>\n",
              "    </tr>\n",
              "    <tr>\n",
              "      <th>4</th>\n",
              "      <td>DS23005</td>\n",
              "      <td>Putri</td>\n",
              "      <td>Wanita</td>\n",
              "      <td>Machine Learning</td>\n",
              "      <td>Ada</td>\n",
              "      <td>7.7</td>\n",
              "      <td>83</td>\n",
              "      <td>Lulus</td>\n",
              "    </tr>\n",
              "  </tbody>\n",
              "</table>\n",
              "</div>\n",
              "    <div class=\"colab-df-buttons\">\n",
              "\n",
              "  <div class=\"colab-df-container\">\n",
              "    <button class=\"colab-df-convert\" onclick=\"convertToInteractive('df-e26f23bf-a79c-4664-ba11-a9c447278cfa')\"\n",
              "            title=\"Convert this dataframe to an interactive table.\"\n",
              "            style=\"display:none;\">\n",
              "\n",
              "  <svg xmlns=\"http://www.w3.org/2000/svg\" height=\"24px\" viewBox=\"0 -960 960 960\">\n",
              "    <path d=\"M120-120v-720h720v720H120Zm60-500h600v-160H180v160Zm220 220h160v-160H400v160Zm0 220h160v-160H400v160ZM180-400h160v-160H180v160Zm440 0h160v-160H620v160ZM180-180h160v-160H180v160Zm440 0h160v-160H620v160Z\"/>\n",
              "  </svg>\n",
              "    </button>\n",
              "\n",
              "  <style>\n",
              "    .colab-df-container {\n",
              "      display:flex;\n",
              "      gap: 12px;\n",
              "    }\n",
              "\n",
              "    .colab-df-convert {\n",
              "      background-color: #E8F0FE;\n",
              "      border: none;\n",
              "      border-radius: 50%;\n",
              "      cursor: pointer;\n",
              "      display: none;\n",
              "      fill: #1967D2;\n",
              "      height: 32px;\n",
              "      padding: 0 0 0 0;\n",
              "      width: 32px;\n",
              "    }\n",
              "\n",
              "    .colab-df-convert:hover {\n",
              "      background-color: #E2EBFA;\n",
              "      box-shadow: 0px 1px 2px rgba(60, 64, 67, 0.3), 0px 1px 3px 1px rgba(60, 64, 67, 0.15);\n",
              "      fill: #174EA6;\n",
              "    }\n",
              "\n",
              "    .colab-df-buttons div {\n",
              "      margin-bottom: 4px;\n",
              "    }\n",
              "\n",
              "    [theme=dark] .colab-df-convert {\n",
              "      background-color: #3B4455;\n",
              "      fill: #D2E3FC;\n",
              "    }\n",
              "\n",
              "    [theme=dark] .colab-df-convert:hover {\n",
              "      background-color: #434B5C;\n",
              "      box-shadow: 0px 1px 3px 1px rgba(0, 0, 0, 0.15);\n",
              "      filter: drop-shadow(0px 1px 2px rgba(0, 0, 0, 0.3));\n",
              "      fill: #FFFFFF;\n",
              "    }\n",
              "  </style>\n",
              "\n",
              "    <script>\n",
              "      const buttonEl =\n",
              "        document.querySelector('#df-e26f23bf-a79c-4664-ba11-a9c447278cfa button.colab-df-convert');\n",
              "      buttonEl.style.display =\n",
              "        google.colab.kernel.accessAllowed ? 'block' : 'none';\n",
              "\n",
              "      async function convertToInteractive(key) {\n",
              "        const element = document.querySelector('#df-e26f23bf-a79c-4664-ba11-a9c447278cfa');\n",
              "        const dataTable =\n",
              "          await google.colab.kernel.invokeFunction('convertToInteractive',\n",
              "                                                    [key], {});\n",
              "        if (!dataTable) return;\n",
              "\n",
              "        const docLinkHtml = 'Like what you see? Visit the ' +\n",
              "          '<a target=\"_blank\" href=https://colab.research.google.com/notebooks/data_table.ipynb>data table notebook</a>'\n",
              "          + ' to learn more about interactive tables.';\n",
              "        element.innerHTML = '';\n",
              "        dataTable['output_type'] = 'display_data';\n",
              "        await google.colab.output.renderOutput(dataTable, element);\n",
              "        const docLink = document.createElement('div');\n",
              "        docLink.innerHTML = docLinkHtml;\n",
              "        element.appendChild(docLink);\n",
              "      }\n",
              "    </script>\n",
              "  </div>\n",
              "\n",
              "\n",
              "<div id=\"df-33fc9d1a-ec18-4f93-ba80-d9543c20bebc\">\n",
              "  <button class=\"colab-df-quickchart\" onclick=\"quickchart('df-33fc9d1a-ec18-4f93-ba80-d9543c20bebc')\"\n",
              "            title=\"Suggest charts\"\n",
              "            style=\"display:none;\">\n",
              "\n",
              "<svg xmlns=\"http://www.w3.org/2000/svg\" height=\"24px\"viewBox=\"0 0 24 24\"\n",
              "     width=\"24px\">\n",
              "    <g>\n",
              "        <path d=\"M19 3H5c-1.1 0-2 .9-2 2v14c0 1.1.9 2 2 2h14c1.1 0 2-.9 2-2V5c0-1.1-.9-2-2-2zM9 17H7v-7h2v7zm4 0h-2V7h2v10zm4 0h-2v-4h2v4z\"/>\n",
              "    </g>\n",
              "</svg>\n",
              "  </button>\n",
              "\n",
              "<style>\n",
              "  .colab-df-quickchart {\n",
              "      --bg-color: #E8F0FE;\n",
              "      --fill-color: #1967D2;\n",
              "      --hover-bg-color: #E2EBFA;\n",
              "      --hover-fill-color: #174EA6;\n",
              "      --disabled-fill-color: #AAA;\n",
              "      --disabled-bg-color: #DDD;\n",
              "  }\n",
              "\n",
              "  [theme=dark] .colab-df-quickchart {\n",
              "      --bg-color: #3B4455;\n",
              "      --fill-color: #D2E3FC;\n",
              "      --hover-bg-color: #434B5C;\n",
              "      --hover-fill-color: #FFFFFF;\n",
              "      --disabled-bg-color: #3B4455;\n",
              "      --disabled-fill-color: #666;\n",
              "  }\n",
              "\n",
              "  .colab-df-quickchart {\n",
              "    background-color: var(--bg-color);\n",
              "    border: none;\n",
              "    border-radius: 50%;\n",
              "    cursor: pointer;\n",
              "    display: none;\n",
              "    fill: var(--fill-color);\n",
              "    height: 32px;\n",
              "    padding: 0;\n",
              "    width: 32px;\n",
              "  }\n",
              "\n",
              "  .colab-df-quickchart:hover {\n",
              "    background-color: var(--hover-bg-color);\n",
              "    box-shadow: 0 1px 2px rgba(60, 64, 67, 0.3), 0 1px 3px 1px rgba(60, 64, 67, 0.15);\n",
              "    fill: var(--button-hover-fill-color);\n",
              "  }\n",
              "\n",
              "  .colab-df-quickchart-complete:disabled,\n",
              "  .colab-df-quickchart-complete:disabled:hover {\n",
              "    background-color: var(--disabled-bg-color);\n",
              "    fill: var(--disabled-fill-color);\n",
              "    box-shadow: none;\n",
              "  }\n",
              "\n",
              "  .colab-df-spinner {\n",
              "    border: 2px solid var(--fill-color);\n",
              "    border-color: transparent;\n",
              "    border-bottom-color: var(--fill-color);\n",
              "    animation:\n",
              "      spin 1s steps(1) infinite;\n",
              "  }\n",
              "\n",
              "  @keyframes spin {\n",
              "    0% {\n",
              "      border-color: transparent;\n",
              "      border-bottom-color: var(--fill-color);\n",
              "      border-left-color: var(--fill-color);\n",
              "    }\n",
              "    20% {\n",
              "      border-color: transparent;\n",
              "      border-left-color: var(--fill-color);\n",
              "      border-top-color: var(--fill-color);\n",
              "    }\n",
              "    30% {\n",
              "      border-color: transparent;\n",
              "      border-left-color: var(--fill-color);\n",
              "      border-top-color: var(--fill-color);\n",
              "      border-right-color: var(--fill-color);\n",
              "    }\n",
              "    40% {\n",
              "      border-color: transparent;\n",
              "      border-right-color: var(--fill-color);\n",
              "      border-top-color: var(--fill-color);\n",
              "    }\n",
              "    60% {\n",
              "      border-color: transparent;\n",
              "      border-right-color: var(--fill-color);\n",
              "    }\n",
              "    80% {\n",
              "      border-color: transparent;\n",
              "      border-right-color: var(--fill-color);\n",
              "      border-bottom-color: var(--fill-color);\n",
              "    }\n",
              "    90% {\n",
              "      border-color: transparent;\n",
              "      border-bottom-color: var(--fill-color);\n",
              "    }\n",
              "  }\n",
              "</style>\n",
              "\n",
              "  <script>\n",
              "    async function quickchart(key) {\n",
              "      const quickchartButtonEl =\n",
              "        document.querySelector('#' + key + ' button');\n",
              "      quickchartButtonEl.disabled = true;  // To prevent multiple clicks.\n",
              "      quickchartButtonEl.classList.add('colab-df-spinner');\n",
              "      try {\n",
              "        const charts = await google.colab.kernel.invokeFunction(\n",
              "            'suggestCharts', [key], {});\n",
              "      } catch (error) {\n",
              "        console.error('Error during call to suggestCharts:', error);\n",
              "      }\n",
              "      quickchartButtonEl.classList.remove('colab-df-spinner');\n",
              "      quickchartButtonEl.classList.add('colab-df-quickchart-complete');\n",
              "    }\n",
              "    (() => {\n",
              "      let quickchartButtonEl =\n",
              "        document.querySelector('#df-33fc9d1a-ec18-4f93-ba80-d9543c20bebc button');\n",
              "      quickchartButtonEl.style.display =\n",
              "        google.colab.kernel.accessAllowed ? 'block' : 'none';\n",
              "    })();\n",
              "  </script>\n",
              "</div>\n",
              "    </div>\n",
              "  </div>\n"
            ]
          },
          "metadata": {},
          "execution_count": 5
        }
      ]
    },
    {
      "cell_type": "code",
      "source": [
        "# Menampilkan Statistik Deskriptif dari Variabel \"Nilai\" pada Dataset Sinubi\n",
        "data_df['Nilai'].describe()"
      ],
      "metadata": {
        "colab": {
          "base_uri": "https://localhost:8080/"
        },
        "id": "3pifD2gc011t",
        "outputId": "e6cac6aa-1f31-4fa5-a2f1-14dd37efc1a2"
      },
      "execution_count": null,
      "outputs": [
        {
          "output_type": "execute_result",
          "data": {
            "text/plain": [
              "count    60.000000\n",
              "mean     63.966667\n",
              "std      19.961800\n",
              "min      23.000000\n",
              "25%      45.750000\n",
              "50%      66.500000\n",
              "75%      81.250000\n",
              "max      92.000000\n",
              "Name: Nilai, dtype: float64"
            ]
          },
          "metadata": {},
          "execution_count": 6
        }
      ]
    },
    {
      "cell_type": "markdown",
      "source": [
        "## Informasi"
      ],
      "metadata": {
        "id": "jbL0l02nizc1"
      }
    },
    {
      "cell_type": "markdown",
      "source": [
        "Sumber : https://matplotlib.org/stable/api/_as_gen/matplotlib.pyplot.boxplot.html"
      ],
      "metadata": {
        "id": "5849U9Rsi7r6"
      }
    },
    {
      "cell_type": "markdown",
      "source": [
        "![image.png](data:image/png;base64,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)"
      ],
      "metadata": {
        "id": "2hGhuZgji10E"
      }
    },
    {
      "cell_type": "markdown",
      "source": [
        "## *Box Plot* dari DataFrame"
      ],
      "metadata": {
        "id": "UcwFs83myg3b"
      }
    },
    {
      "cell_type": "code",
      "source": [
        "# Membuat Box Plot\n",
        "plt.figure(figsize=(5,3))                 # Ukuran Gambar (dalam inci)\n",
        "\n",
        "sns.boxplot(data = data_df,\n",
        "            y = 'Nilai')\n",
        "\n",
        "plt.title('Box Plot dari DataFrame')      # Judul Gambar\n",
        "plt.xlabel('Nilai')                       # Keterangan untuk Sumbu X\n",
        "plt.show()"
      ],
      "metadata": {
        "colab": {
          "base_uri": "https://localhost:8080/",
          "height": 319
        },
        "id": "tissMpWjzI5L",
        "outputId": "4bfb2fcd-f95a-4f5f-f6fb-eb7fc16c52ab"
      },
      "execution_count": null,
      "outputs": [
        {
          "output_type": "display_data",
          "data": {
            "text/plain": [
              "<Figure size 500x300 with 1 Axes>"
            ],
            "image/png": "[encoded data removed]"
          },
          "metadata": {}
        }
      ]
    },
    {
      "cell_type": "code",
      "source": [
        "# Statistik Deskriptif\n",
        "X = data_df['Nilai']\n",
        "\n",
        "print('Min           : ', np.min(X))\n",
        "print('Max           : ', np.max(X))\n",
        "print('Q1            : ', np.quantile(X,0.25))\n",
        "print('Median (Q2)   : ', np.median(X))\n",
        "print('Q3            : ', np.quantile(X,0.75))\n",
        "print('IQR           : ', np.quantile(X,0.75) - np.quantile(X,0.25))\n",
        "\n",
        "fence_atas = np.quantile(X,0.75) + 1.5 * (np.quantile(X,0.75) - np.quantile(X,0.25))\n",
        "if fence_atas > np.max(X) : fence_atas = np.max(X)\n",
        "\n",
        "fence_bawah = np.quantile(X,0.25) - 1.5 * (np.quantile(X,0.75) - np.quantile(X,0.25))\n",
        "if fence_bawah < np.min(X) : fence_bawah = np.min(X)\n",
        "\n",
        "print()\n",
        "print('Fence/Extreme Atas  : ', fence_atas)\n",
        "print('Fence/Extreme Bawah : ', fence_bawah)"
      ],
      "metadata": {
        "colab": {
          "base_uri": "https://localhost:8080/"
        },
        "id": "CWfGbewfJ4MI",
        "outputId": "3bd57239-9ff5-436c-e8d5-9a8d803d5491"
      },
      "execution_count": null,
      "outputs": [
        {
          "output_type": "stream",
          "name": "stdout",
          "text": [
            "Min           :  23\n",
            "Max           :  92\n",
            "Q1            :  45.75\n",
            "Median (Q2)   :  66.5\n",
            "Q3            :  81.25\n",
            "IQR           :  35.5\n",
            "\n",
            "Fence/Extreme Atas  :  92\n",
            "Fence/Extreme Bawah :  23\n"
          ]
        }
      ]
    },
    {
      "cell_type": "markdown",
      "source": [
        "### Membuat *Box Plot* menjadi Horizontal"
      ],
      "metadata": {
        "id": "PkAgbfLXsSpU"
      }
    },
    {
      "cell_type": "code",
      "source": [
        "# Membuat Box Plot\n",
        "plt.figure(figsize=(5,3))                 # Ukuran Gambar (dalam inci)\n",
        "\n",
        "sns.boxplot(data = data_df,\n",
        "            x = 'Nilai')\n",
        "\n",
        "plt.title('Box Plot dari DataFrame')      # Judul Gambar\n",
        "plt.xlabel('Nilai')                       # Keterangan untuk Sumbu X\n",
        "plt.show()"
      ],
      "metadata": {
        "colab": {
          "base_uri": "https://localhost:8080/",
          "height": 333
        },
        "id": "09gW-OmFsVbz",
        "outputId": "1da29d53-aa4a-492d-e507-23168cf7a683"
      },
      "execution_count": null,
      "outputs": [
        {
          "output_type": "display_data",
          "data": {
            "text/plain": [
              "<Figure size 500x300 with 1 Axes>"
            ],
            "image/png": "[encoded data removed]"
          },
          "metadata": {}
        }
      ]
    },
    {
      "cell_type": "markdown",
      "source": [
        "### Mengubah Warna pada *Box Plot*"
      ],
      "metadata": {
        "id": "-d_cdncg2UdU"
      }
    },
    {
      "cell_type": "code",
      "source": [
        "# Membuat Box Plot\n",
        "plt.figure(figsize=(5,3))                 # Ukuran Gambar (dalam inci)\n",
        "\n",
        "sns.boxplot(data = data_df,\n",
        "            y = 'Nilai',\n",
        "            color = \"red\")\n",
        "\n",
        "plt.title('Box Plot dari DataFrame')      # Judul Gambar\n",
        "plt.xlabel('Nilai')                       # Keterangan untuk Sumbu X\n",
        "plt.show()"
      ],
      "metadata": {
        "colab": {
          "base_uri": "https://localhost:8080/",
          "height": 319
        },
        "id": "O_27kuZLsGv5",
        "outputId": "e44dfc84-8700-4e47-b805-57189aac45f7"
      },
      "execution_count": null,
      "outputs": [
        {
          "output_type": "display_data",
          "data": {
            "text/plain": [
              "<Figure size 500x300 with 1 Axes>"
            ],
            "image/png": "[encoded data removed]"
          },
          "metadata": {}
        }
      ]
    },
    {
      "cell_type": "markdown",
      "source": [
        "# Referensi Eksternal\n",
        "\n",
        "*   https://seaborn.pydata.org/generated/seaborn.boxplot.html\n",
        "*   https://www.geeksforgeeks.org/box-plot-visualization-with-pandas-and-seaborn/\n",
        "*   https://www.geeksforgeeks.org/boxplot-using-seaborn-in-python/\n",
        "*   https://pythonbasics.org/seaborn-boxplot/\n",
        "*   https://python-charts.com/distribution/box-plot-seaborn/\n",
        "*   https://www.tutorialspoint.com/seaborn/seaborn_boxplot_method.htm\n",
        "*   https://towardsdatascience.com/creating-boxplots-with-the-seaborn-python-library-f0c20f09bd57\n",
        "\n"
      ],
      "metadata": {
        "id": "sG_ASLwmuidI"
      }
    }
  ]
}