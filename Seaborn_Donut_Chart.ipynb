{
  "nbformat": 4,
  "nbformat_minor": 0,
  "metadata": {
    "colab": {
      "provenance": [],
      "toc_visible": true,
      "authorship_tag": "ABX9TyOMi/YACzkvH7awBnoWBcan"
    },
    "kernelspec": {
      "name": "python3",
      "display_name": "Python 3"
    },
    "language_info": {
      "name": "python"
    }
  },
  "cells": [
    {
      "cell_type": "markdown",
      "source": [
        "# **Data Visualization - Python - Seaborn**\n",
        "\n",
        "Donut Chart\n",
        "\n",
        "*Catatan* : Seaborn hanya digunakan untuk pewarnaan saja. Chart ini dibuat dengan Matplotlib.\n",
        "\n",
        "[![Open In Colab](https://colab.research.google.com/assets/colab-badge.svg)](https://colab.research.google.com/drive/1yzRjQVet-bQEgjmSa6wsgIXH2VcOLXgX?usp=sharing)\n",
        "\n",
        "*Oleh : Sinubi*"
      ],
      "metadata": {
        "id": "G99skov9tpQM"
      }
    },
    {
      "cell_type": "markdown",
      "source": [
        "## Persiapan"
      ],
      "metadata": {
        "id": "SVUnmMAAvR42"
      }
    },
    {
      "cell_type": "code",
      "source": [
        "# Import Packages/Libraries yang diperlukan\n",
        "import matplotlib\n",
        "import matplotlib.pyplot as plt\n",
        "import seaborn as sns\n",
        "import numpy as np\n",
        "import pandas as pd"
      ],
      "metadata": {
        "id": "gMGUIgiJvU1N"
      },
      "execution_count": null,
      "outputs": []
    },
    {
      "cell_type": "code",
      "source": [
        "# Menampilkan Versi Packages yang digunakan\n",
        "print(\"Versi Matplotlib : \", matplotlib.__version__)\n",
        "print(\"Versi Seaborn    : \", sns.__version__)\n",
        "print(\"Versi Numpy      : \", np.__version__)\n",
        "print(\"Versi Pandas     : \", pd.__version__)"
      ],
      "metadata": {
        "colab": {
          "base_uri": "https://localhost:8080/"
        },
        "id": "dL21zyPLwJgf",
        "outputId": "c6bb57e5-fd47-4661-8727-ce5db56a6a2b"
      },
      "execution_count": null,
      "outputs": [
        {
          "output_type": "stream",
          "name": "stdout",
          "text": [
            "Versi Matplotlib :  3.7.1\n",
            "Versi Seaborn    :  0.13.1\n",
            "Versi Numpy      :  1.23.5\n",
            "Versi Pandas     :  1.5.3\n"
          ]
        }
      ]
    },
    {
      "cell_type": "code",
      "source": [
        "# Download Dataset Sinubi\n",
        "!wget \"https://github.com/sinubi-idr/datasets-structured-data/raw/main/Sinubi's%20Journey%20Dataset/Dataset%20SJ%2001.xlsx\""
      ],
      "metadata": {
        "colab": {
          "base_uri": "https://localhost:8080/"
        },
        "id": "mHnHRY6TvzJ5",
        "outputId": "c8efaed6-8e56-4bcb-f663-e801de5fb642"
      },
      "execution_count": null,
      "outputs": [
        {
          "output_type": "stream",
          "name": "stdout",
          "text": [
            "--2024-01-22 15:48:17--  https://github.com/sinubi-idr/datasets-structured-data/raw/main/Sinubi's%20Journey%20Dataset/Dataset%20SJ%2001.xlsx\n",
            "Resolving github.com (github.com)... 140.82.113.3\n",
            "Connecting to github.com (github.com)|140.82.113.3|:443... connected.\n",
            "HTTP request sent, awaiting response... 302 Found\n",
            "Location: https://raw.githubusercontent.com/sinubi-idr/datasets-structured-data/main/Sinubi's%20Journey%20Dataset/Dataset%20SJ%2001.xlsx [following]\n",
            "--2024-01-22 15:48:17--  https://raw.githubusercontent.com/sinubi-idr/datasets-structured-data/main/Sinubi's%20Journey%20Dataset/Dataset%20SJ%2001.xlsx\n",
            "Resolving raw.githubusercontent.com (raw.githubusercontent.com)... 185.199.109.133, 185.199.110.133, 185.199.111.133, ...\n",
            "Connecting to raw.githubusercontent.com (raw.githubusercontent.com)|185.199.109.133|:443... connected.\n",
            "HTTP request sent, awaiting response... 200 OK\n",
            "Length: 12185 (12K) [application/octet-stream]\n",
            "Saving to: ‘Dataset SJ 01.xlsx’\n",
            "\n",
            "Dataset SJ 01.xlsx  100%[===================>]  11.90K  --.-KB/s    in 0s      \n",
            "\n",
            "2024-01-22 15:48:18 (108 MB/s) - ‘Dataset SJ 01.xlsx’ saved [12185/12185]\n",
            "\n"
          ]
        }
      ]
    },
    {
      "cell_type": "code",
      "source": [
        "# Import Dataset Sinubi\n",
        "nama_file = \"/content/Dataset SJ 01.xlsx\"\n",
        "\n",
        "data_df = pd.read_excel(nama_file, sheet_name='data')"
      ],
      "metadata": {
        "id": "-mnT2MgXwB9X"
      },
      "execution_count": null,
      "outputs": []
    },
    {
      "cell_type": "code",
      "source": [
        "# Menampilkan Beberapa Data Awal pada Dataset Sinubi\n",
        "data_df.head()"
      ],
      "metadata": {
        "colab": {
          "base_uri": "https://localhost:8080/",
          "height": 206
        },
        "id": "bKvAF0hUzU3F",
        "outputId": "e4d4b855-0328-4a1b-c80a-8d6a9353b775"
      },
      "execution_count": null,
      "outputs": [
        {
          "output_type": "execute_result",
          "data": {
            "text/plain": [
              "  Nomor Induk    Nama Jenis Kelamin      Mata Pelajaran Akses Internet  \\\n",
              "0     DS23001  Sinubi          Pria  Pemrograman Python            Ada   \n",
              "1     DS23002    Budi          Pria  Pemrograman Python            Ada   \n",
              "2     DS23003     Ayu        Wanita  Pemrograman Python            Ada   \n",
              "3     DS23004    Tono          Pria    Machine Learning            Ada   \n",
              "4     DS23005   Putri        Wanita    Machine Learning            Ada   \n",
              "\n",
              "   Waktu Belajar  Nilai  Lulus  \n",
              "0            8.0     85  Lulus  \n",
              "1            7.5     80  Lulus  \n",
              "2            8.5     90  Lulus  \n",
              "3            8.2     88  Lulus  \n",
              "4            7.7     83  Lulus  "
            ],
            "text/html": [
              "\n",
              "  <div id=\"df-a8c30a21-e12b-49a9-a907-e459b1a2383a\" class=\"colab-df-container\">\n",
              "    <div>\n",
              "<style scoped>\n",
              "    .dataframe tbody tr th:only-of-type {\n",
              "        vertical-align: middle;\n",
              "    }\n",
              "\n",
              "    .dataframe tbody tr th {\n",
              "        vertical-align: top;\n",
              "    }\n",
              "\n",
              "    .dataframe thead th {\n",
              "        text-align: right;\n",
              "    }\n",
              "</style>\n",
              "<table border=\"1\" class=\"dataframe\">\n",
              "  <thead>\n",
              "    <tr style=\"text-align: right;\">\n",
              "      <th></th>\n",
              "      <th>Nomor Induk</th>\n",
              "      <th>Nama</th>\n",
              "      <th>Jenis Kelamin</th>\n",
              "      <th>Mata Pelajaran</th>\n",
              "      <th>Akses Internet</th>\n",
              "      <th>Waktu Belajar</th>\n",
              "      <th>Nilai</th>\n",
              "      <th>Lulus</th>\n",
              "    </tr>\n",
              "  </thead>\n",
              "  <tbody>\n",
              "    <tr>\n",
              "      <th>0</th>\n",
              "      <td>DS23001</td>\n",
              "      <td>Sinubi</td>\n",
              "      <td>Pria</td>\n",
              "      <td>Pemrograman Python</td>\n",
              "      <td>Ada</td>\n",
              "      <td>8.0</td>\n",
              "      <td>85</td>\n",
              "      <td>Lulus</td>\n",
              "    </tr>\n",
              "    <tr>\n",
              "      <th>1</th>\n",
              "      <td>DS23002</td>\n",
              "      <td>Budi</td>\n",
              "      <td>Pria</td>\n",
              "      <td>Pemrograman Python</td>\n",
              "      <td>Ada</td>\n",
              "      <td>7.5</td>\n",
              "      <td>80</td>\n",
              "      <td>Lulus</td>\n",
              "    </tr>\n",
              "    <tr>\n",
              "      <th>2</th>\n",
              "      <td>DS23003</td>\n",
              "      <td>Ayu</td>\n",
              "      <td>Wanita</td>\n",
              "      <td>Pemrograman Python</td>\n",
              "      <td>Ada</td>\n",
              "      <td>8.5</td>\n",
              "      <td>90</td>\n",
              "      <td>Lulus</td>\n",
              "    </tr>\n",
              "    <tr>\n",
              "      <th>3</th>\n",
              "      <td>DS23004</td>\n",
              "      <td>Tono</td>\n",
              "      <td>Pria</td>\n",
              "      <td>Machine Learning</td>\n",
              "      <td>Ada</td>\n",
              "      <td>8.2</td>\n",
              "      <td>88</td>\n",
              "      <td>Lulus</td>\n",
              "    </tr>\n",
              "    <tr>\n",
              "      <th>4</th>\n",
              "      <td>DS23005</td>\n",
              "      <td>Putri</td>\n",
              "      <td>Wanita</td>\n",
              "      <td>Machine Learning</td>\n",
              "      <td>Ada</td>\n",
              "      <td>7.7</td>\n",
              "      <td>83</td>\n",
              "      <td>Lulus</td>\n",
              "    </tr>\n",
              "  </tbody>\n",
              "</table>\n",
              "</div>\n",
              "    <div class=\"colab-df-buttons\">\n",
              "\n",
              "  <div class=\"colab-df-container\">\n",
              "    <button class=\"colab-df-convert\" onclick=\"convertToInteractive('df-a8c30a21-e12b-49a9-a907-e459b1a2383a')\"\n",
              "            title=\"Convert this dataframe to an interactive table.\"\n",
              "            style=\"display:none;\">\n",
              "\n",
              "  <svg xmlns=\"http://www.w3.org/2000/svg\" height=\"24px\" viewBox=\"0 -960 960 960\">\n",
              "    <path d=\"M120-120v-720h720v720H120Zm60-500h600v-160H180v160Zm220 220h160v-160H400v160Zm0 220h160v-160H400v160ZM180-400h160v-160H180v160Zm440 0h160v-160H620v160ZM180-180h160v-160H180v160Zm440 0h160v-160H620v160Z\"/>\n",
              "  </svg>\n",
              "    </button>\n",
              "\n",
              "  <style>\n",
              "    .colab-df-container {\n",
              "      display:flex;\n",
              "      gap: 12px;\n",
              "    }\n",
              "\n",
              "    .colab-df-convert {\n",
              "      background-color: #E8F0FE;\n",
              "      border: none;\n",
              "      border-radius: 50%;\n",
              "      cursor: pointer;\n",
              "      display: none;\n",
              "      fill: #1967D2;\n",
              "      height: 32px;\n",
              "      padding: 0 0 0 0;\n",
              "      width: 32px;\n",
              "    }\n",
              "\n",
              "    .colab-df-convert:hover {\n",
              "      background-color: #E2EBFA;\n",
              "      box-shadow: 0px 1px 2px rgba(60, 64, 67, 0.3), 0px 1px 3px 1px rgba(60, 64, 67, 0.15);\n",
              "      fill: #174EA6;\n",
              "    }\n",
              "\n",
              "    .colab-df-buttons div {\n",
              "      margin-bottom: 4px;\n",
              "    }\n",
              "\n",
              "    [theme=dark] .colab-df-convert {\n",
              "      background-color: #3B4455;\n",
              "      fill: #D2E3FC;\n",
              "    }\n",
              "\n",
              "    [theme=dark] .colab-df-convert:hover {\n",
              "      background-color: #434B5C;\n",
              "      box-shadow: 0px 1px 3px 1px rgba(0, 0, 0, 0.15);\n",
              "      filter: drop-shadow(0px 1px 2px rgba(0, 0, 0, 0.3));\n",
              "      fill: #FFFFFF;\n",
              "    }\n",
              "  </style>\n",
              "\n",
              "    <script>\n",
              "      const buttonEl =\n",
              "        document.querySelector('#df-a8c30a21-e12b-49a9-a907-e459b1a2383a button.colab-df-convert');\n",
              "      buttonEl.style.display =\n",
              "        google.colab.kernel.accessAllowed ? 'block' : 'none';\n",
              "\n",
              "      async function convertToInteractive(key) {\n",
              "        const element = document.querySelector('#df-a8c30a21-e12b-49a9-a907-e459b1a2383a');\n",
              "        const dataTable =\n",
              "          await google.colab.kernel.invokeFunction('convertToInteractive',\n",
              "                                                    [key], {});\n",
              "        if (!dataTable) return;\n",
              "\n",
              "        const docLinkHtml = 'Like what you see? Visit the ' +\n",
              "          '<a target=\"_blank\" href=https://colab.research.google.com/notebooks/data_table.ipynb>data table notebook</a>'\n",
              "          + ' to learn more about interactive tables.';\n",
              "        element.innerHTML = '';\n",
              "        dataTable['output_type'] = 'display_data';\n",
              "        await google.colab.output.renderOutput(dataTable, element);\n",
              "        const docLink = document.createElement('div');\n",
              "        docLink.innerHTML = docLinkHtml;\n",
              "        element.appendChild(docLink);\n",
              "      }\n",
              "    </script>\n",
              "  </div>\n",
              "\n",
              "\n",
              "<div id=\"df-7ff60230-2812-4440-9f06-795a6c1f774e\">\n",
              "  <button class=\"colab-df-quickchart\" onclick=\"quickchart('df-7ff60230-2812-4440-9f06-795a6c1f774e')\"\n",
              "            title=\"Suggest charts\"\n",
              "            style=\"display:none;\">\n",
              "\n",
              "<svg xmlns=\"http://www.w3.org/2000/svg\" height=\"24px\"viewBox=\"0 0 24 24\"\n",
              "     width=\"24px\">\n",
              "    <g>\n",
              "        <path d=\"M19 3H5c-1.1 0-2 .9-2 2v14c0 1.1.9 2 2 2h14c1.1 0 2-.9 2-2V5c0-1.1-.9-2-2-2zM9 17H7v-7h2v7zm4 0h-2V7h2v10zm4 0h-2v-4h2v4z\"/>\n",
              "    </g>\n",
              "</svg>\n",
              "  </button>\n",
              "\n",
              "<style>\n",
              "  .colab-df-quickchart {\n",
              "      --bg-color: #E8F0FE;\n",
              "      --fill-color: #1967D2;\n",
              "      --hover-bg-color: #E2EBFA;\n",
              "      --hover-fill-color: #174EA6;\n",
              "      --disabled-fill-color: #AAA;\n",
              "      --disabled-bg-color: #DDD;\n",
              "  }\n",
              "\n",
              "  [theme=dark] .colab-df-quickchart {\n",
              "      --bg-color: #3B4455;\n",
              "      --fill-color: #D2E3FC;\n",
              "      --hover-bg-color: #434B5C;\n",
              "      --hover-fill-color: #FFFFFF;\n",
              "      --disabled-bg-color: #3B4455;\n",
              "      --disabled-fill-color: #666;\n",
              "  }\n",
              "\n",
              "  .colab-df-quickchart {\n",
              "    background-color: var(--bg-color);\n",
              "    border: none;\n",
              "    border-radius: 50%;\n",
              "    cursor: pointer;\n",
              "    display: none;\n",
              "    fill: var(--fill-color);\n",
              "    height: 32px;\n",
              "    padding: 0;\n",
              "    width: 32px;\n",
              "  }\n",
              "\n",
              "  .colab-df-quickchart:hover {\n",
              "    background-color: var(--hover-bg-color);\n",
              "    box-shadow: 0 1px 2px rgba(60, 64, 67, 0.3), 0 1px 3px 1px rgba(60, 64, 67, 0.15);\n",
              "    fill: var(--button-hover-fill-color);\n",
              "  }\n",
              "\n",
              "  .colab-df-quickchart-complete:disabled,\n",
              "  .colab-df-quickchart-complete:disabled:hover {\n",
              "    background-color: var(--disabled-bg-color);\n",
              "    fill: var(--disabled-fill-color);\n",
              "    box-shadow: none;\n",
              "  }\n",
              "\n",
              "  .colab-df-spinner {\n",
              "    border: 2px solid var(--fill-color);\n",
              "    border-color: transparent;\n",
              "    border-bottom-color: var(--fill-color);\n",
              "    animation:\n",
              "      spin 1s steps(1) infinite;\n",
              "  }\n",
              "\n",
              "  @keyframes spin {\n",
              "    0% {\n",
              "      border-color: transparent;\n",
              "      border-bottom-color: var(--fill-color);\n",
              "      border-left-color: var(--fill-color);\n",
              "    }\n",
              "    20% {\n",
              "      border-color: transparent;\n",
              "      border-left-color: var(--fill-color);\n",
              "      border-top-color: var(--fill-color);\n",
              "    }\n",
              "    30% {\n",
              "      border-color: transparent;\n",
              "      border-left-color: var(--fill-color);\n",
              "      border-top-color: var(--fill-color);\n",
              "      border-right-color: var(--fill-color);\n",
              "    }\n",
              "    40% {\n",
              "      border-color: transparent;\n",
              "      border-right-color: var(--fill-color);\n",
              "      border-top-color: var(--fill-color);\n",
              "    }\n",
              "    60% {\n",
              "      border-color: transparent;\n",
              "      border-right-color: var(--fill-color);\n",
              "    }\n",
              "    80% {\n",
              "      border-color: transparent;\n",
              "      border-right-color: var(--fill-color);\n",
              "      border-bottom-color: var(--fill-color);\n",
              "    }\n",
              "    90% {\n",
              "      border-color: transparent;\n",
              "      border-bottom-color: var(--fill-color);\n",
              "    }\n",
              "  }\n",
              "</style>\n",
              "\n",
              "  <script>\n",
              "    async function quickchart(key) {\n",
              "      const quickchartButtonEl =\n",
              "        document.querySelector('#' + key + ' button');\n",
              "      quickchartButtonEl.disabled = true;  // To prevent multiple clicks.\n",
              "      quickchartButtonEl.classList.add('colab-df-spinner');\n",
              "      try {\n",
              "        const charts = await google.colab.kernel.invokeFunction(\n",
              "            'suggestCharts', [key], {});\n",
              "      } catch (error) {\n",
              "        console.error('Error during call to suggestCharts:', error);\n",
              "      }\n",
              "      quickchartButtonEl.classList.remove('colab-df-spinner');\n",
              "      quickchartButtonEl.classList.add('colab-df-quickchart-complete');\n",
              "    }\n",
              "    (() => {\n",
              "      let quickchartButtonEl =\n",
              "        document.querySelector('#df-7ff60230-2812-4440-9f06-795a6c1f774e button');\n",
              "      quickchartButtonEl.style.display =\n",
              "        google.colab.kernel.accessAllowed ? 'block' : 'none';\n",
              "    })();\n",
              "  </script>\n",
              "</div>\n",
              "    </div>\n",
              "  </div>\n"
            ]
          },
          "metadata": {},
          "execution_count": 5
        }
      ]
    },
    {
      "cell_type": "code",
      "source": [
        "# Membuat Subset (Filter) Dataset untuk \"Mata Pelajaran\" = \"Pemrograman Python\" saja\n",
        "data_df = data_df[data_df[\"Mata Pelajaran\"] == \"Pemrograman Python\"]"
      ],
      "metadata": {
        "id": "JR4fyQRTVSjc"
      },
      "execution_count": null,
      "outputs": []
    },
    {
      "cell_type": "code",
      "source": [
        "# Menampilkan Statistik (Frekuensi) dari Variabel \"Jenis Kelamin\" pada Dataset Sinubi\n",
        "data_df['Jenis Kelamin'].value_counts()"
      ],
      "metadata": {
        "colab": {
          "base_uri": "https://localhost:8080/"
        },
        "id": "3pifD2gc011t",
        "outputId": "0f57dd53-c637-4c9c-f06e-3111a32b81d8"
      },
      "execution_count": null,
      "outputs": [
        {
          "output_type": "execute_result",
          "data": {
            "text/plain": [
              "Pria      17\n",
              "Wanita    13\n",
              "Name: Jenis Kelamin, dtype: int64"
            ]
          },
          "metadata": {},
          "execution_count": 7
        }
      ]
    },
    {
      "cell_type": "markdown",
      "source": [
        "## *Donut Chart* dari DataFrame"
      ],
      "metadata": {
        "id": "UcwFs83myg3b"
      }
    },
    {
      "cell_type": "code",
      "source": [
        "# Konfigurasi Warna\n",
        "warna_palet = sns.color_palette('bright')\n",
        "\n",
        "# Membuat Pie Chart\n",
        "plt.figure(figsize=(5,3))                                               # Ukuran Gambar (dalam inci)\n",
        "\n",
        "data_df['Jenis Kelamin'].value_counts().plot.pie(colors = warna_palet)\n",
        "\n",
        "# Menambahkan Lingkaran Putih\n",
        "# di Tengah Pie Chart -> Donut Chart\n",
        "lingkaran_putih = plt.Circle((0, 0), 0.7, color='white')\n",
        "p = plt.gcf()\n",
        "p.gca().add_artist(lingkaran_putih)\n",
        "\n",
        "plt.title('Donut Chart dari DataFrame')                                  # Judul Gambar\n",
        "plt.show()"
      ],
      "metadata": {
        "colab": {
          "base_uri": "https://localhost:8080/",
          "height": 290
        },
        "id": "tissMpWjzI5L",
        "outputId": "82e4ec6b-409b-40e5-b987-366d3cd58278"
      },
      "execution_count": null,
      "outputs": [
        {
          "output_type": "display_data",
          "data": {
            "text/plain": [
              "<Figure size 500x300 with 1 Axes>"
            ],
            "image/png": "[encoded data removed]"
          },
          "metadata": {}
        }
      ]
    },
    {
      "cell_type": "markdown",
      "source": [
        "### Mengubah Warna pada *Donut Chart*"
      ],
      "metadata": {
        "id": "-d_cdncg2UdU"
      }
    },
    {
      "cell_type": "markdown",
      "source": [
        "#### Cara 1"
      ],
      "metadata": {
        "id": "7MathJNCk7DW"
      }
    },
    {
      "cell_type": "code",
      "source": [
        "# Konfigurasi Warna\n",
        "warna_palet = sns.color_palette('pastel')                               # Mengubah Warna Pie\n",
        "                                                                        # Contoh Pilihan : 'pastel', 'bright', 'dark'\n",
        "\n",
        "# Membuat Pie Chart\n",
        "plt.figure(figsize=(5,3))                                               # Ukuran Gambar (dalam inci)\n",
        "\n",
        "data_df['Jenis Kelamin'].value_counts().plot.pie(colors = warna_palet)\n",
        "\n",
        "# Menambahkan Lingkaran Putih\n",
        "# di Tengah Pie Chart -> Donut Chart\n",
        "lingkaran_putih = plt.Circle((0, 0), 0.7, color='white')\n",
        "p = plt.gcf()\n",
        "p.gca().add_artist(lingkaran_putih)\n",
        "\n",
        "plt.title('Donut Chart dari DataFrame')                                  # Judul Gambar\n",
        "plt.show()"
      ],
      "metadata": {
        "colab": {
          "base_uri": "https://localhost:8080/",
          "height": 290
        },
        "id": "NCO1L9JPk8Hn",
        "outputId": "86e3c301-cd5b-4d93-b70f-64c0d1ddbdd0"
      },
      "execution_count": null,
      "outputs": [
        {
          "output_type": "display_data",
          "data": {
            "text/plain": [
              "<Figure size 500x300 with 1 Axes>"
            ],
            "image/png": "[encoded data removed]"
          },
          "metadata": {}
        }
      ]
    },
    {
      "cell_type": "markdown",
      "source": [
        "#### Cara 2"
      ],
      "metadata": {
        "id": "pN1ksVq7lDDC"
      }
    },
    {
      "cell_type": "code",
      "source": [
        "# Menyiapkan Warna Setiap Pie\n",
        "warna_pie = ['skyblue','pink']                                          # Mengubah Warna Pie\n",
        "\n",
        "# Membuat Pie Chart\n",
        "plt.figure(figsize=(5,3))                                               # Ukuran Gambar (dalam inci)\n",
        "\n",
        "data_df['Jenis Kelamin'].value_counts().plot.pie(colors = warna_pie)\n",
        "\n",
        "# Menambahkan Lingkaran Putih\n",
        "# di Tengah Pie Chart -> Donut Chart\n",
        "lingkaran_putih = plt.Circle((0, 0), 0.7, color='white')\n",
        "p = plt.gcf()\n",
        "p.gca().add_artist(lingkaran_putih)\n",
        "\n",
        "plt.title('Donut Chart dari DataFrame')                                  # Judul Gambar\n",
        "plt.show()"
      ],
      "metadata": {
        "colab": {
          "base_uri": "https://localhost:8080/",
          "height": 290
        },
        "id": "JLM3KmhE_y6v",
        "outputId": "16edeea2-cc39-494b-a7a7-fd51a0c99e18"
      },
      "execution_count": null,
      "outputs": [
        {
          "output_type": "display_data",
          "data": {
            "text/plain": [
              "<Figure size 500x300 with 1 Axes>"
            ],
            "image/png": "[encoded data removed]"
          },
          "metadata": {}
        }
      ]
    },
    {
      "cell_type": "markdown",
      "source": [
        "### Menampilkan Nilai pada *Donut Chart*"
      ],
      "metadata": {
        "id": "pXugiwTunVFj"
      }
    },
    {
      "cell_type": "code",
      "source": [
        "def custom_autopct(values):\n",
        "    def tampilkan_nilai(pct):\n",
        "        total = sum(values)\n",
        "        val = int(round(pct*total/100.0))\n",
        "        return '{v:d}'.format(p=pct,v=val)\n",
        "    return tampilkan_nilai"
      ],
      "metadata": {
        "id": "PmhUvNqyqMiA"
      },
      "execution_count": null,
      "outputs": []
    },
    {
      "cell_type": "code",
      "source": [
        "# Konfigurasi Warna\n",
        "warna_palet = sns.color_palette('pastel')\n",
        "\n",
        "# Membuat Pie Chart\n",
        "plt.figure(figsize=(5,3))                                                              # Ukuran Gambar (dalam inci)\n",
        "\n",
        "data_df['Jenis Kelamin'].value_counts().plot.pie(colors = warna_palet,\n",
        "        autopct = custom_autopct(data_df['Jenis Kelamin'].value_counts().to_list()),   # Menampilkan Nilai\n",
        "        textprops = {'fontsize': 10})                                                  # Mengatur Ukuran Font\n",
        "\n",
        "# Menambahkan Lingkaran Putih\n",
        "# di Tengah Pie Chart -> Donut Chart\n",
        "lingkaran_putih = plt.Circle((0, 0), 0.7, color='white')\n",
        "p = plt.gcf()\n",
        "p.gca().add_artist(lingkaran_putih)\n",
        "\n",
        "plt.title('Donut Chart dari DataFrame')                                                 # Judul Gambar\n",
        "plt.show()"
      ],
      "metadata": {
        "colab": {
          "base_uri": "https://localhost:8080/",
          "height": 290
        },
        "id": "kQybahQDnXa2",
        "outputId": "7e170ca5-d7a2-494f-ae51-53c7c0039493"
      },
      "execution_count": null,
      "outputs": [
        {
          "output_type": "display_data",
          "data": {
            "text/plain": [
              "<Figure size 500x300 with 1 Axes>"
            ],
            "image/png": "[encoded data removed]"
          },
          "metadata": {}
        }
      ]
    },
    {
      "cell_type": "markdown",
      "source": [
        "### Menampilkan Persentase pada *Donut Chart*"
      ],
      "metadata": {
        "id": "HwOvCmYAmKuR"
      }
    },
    {
      "cell_type": "code",
      "source": [
        "# Konfigurasi Warna\n",
        "warna_palet = sns.color_palette('pastel')\n",
        "\n",
        "# Membuat Pie Chart\n",
        "plt.figure(figsize=(5,3))                                               # Ukuran Gambar (dalam inci)\n",
        "\n",
        "data_df['Jenis Kelamin'].value_counts().plot.pie(colors = warna_palet,\n",
        "        autopct = '%.2f %%',                                            # Menampilkan Persentase\n",
        "        textprops = {'fontsize': 10})                                   # Mengatur Ukuran Font\n",
        "\n",
        "# Menambahkan Lingkaran Putih\n",
        "# di Tengah Pie Chart -> Donut Chart\n",
        "lingkaran_putih = plt.Circle((0, 0), 0.7, color='white')\n",
        "p = plt.gcf()\n",
        "p.gca().add_artist(lingkaran_putih)\n",
        "\n",
        "plt.title('Donut Chart dari DataFrame')                                  # Judul Gambar\n",
        "plt.show()"
      ],
      "metadata": {
        "colab": {
          "base_uri": "https://localhost:8080/",
          "height": 290
        },
        "id": "z8AMG7kcmLOI",
        "outputId": "ff3b65ed-3934-4f4f-e283-2db5ca85ee6c"
      },
      "execution_count": null,
      "outputs": [
        {
          "output_type": "display_data",
          "data": {
            "text/plain": [
              "<Figure size 500x300 with 1 Axes>"
            ],
            "image/png": "[encoded data removed]"
          },
          "metadata": {}
        }
      ]
    },
    {
      "cell_type": "markdown",
      "source": [
        "### Menampilkan Nilai dan Persentase pada *Donut Chart*"
      ],
      "metadata": {
        "id": "XYW5a2hQqZGD"
      }
    },
    {
      "cell_type": "code",
      "source": [
        "def custom_autopct(values):\n",
        "    def tampilkan_nilai_dan_persentase(pct):\n",
        "        total = sum(values)\n",
        "        val = int(round(pct*total/100.0))\n",
        "        return '{p:.2f}%  ({v:d})'.format(p=pct,v=val)\n",
        "    return tampilkan_nilai_dan_persentase"
      ],
      "metadata": {
        "id": "C3Tr3dUKqe_O"
      },
      "execution_count": null,
      "outputs": []
    },
    {
      "cell_type": "code",
      "source": [
        "# Konfigurasi Warna\n",
        "warna_palet = sns.color_palette('pastel')\n",
        "\n",
        "# Membuat Pie Chart\n",
        "plt.figure(figsize=(5,3))                                                              # Ukuran Gambar (dalam inci)\n",
        "\n",
        "data_df['Jenis Kelamin'].value_counts().plot.pie(colors = warna_palet,\n",
        "        autopct = custom_autopct(data_df['Jenis Kelamin'].value_counts().to_list()),   # Menampilkan Nilai dan Persentase\n",
        "        textprops = {'fontsize': 10})                                                  # Mengatur Ukuran Font\n",
        "\n",
        "# Menambahkan Lingkaran Putih\n",
        "# di Tengah Pie Chart -> Donut Chart\n",
        "lingkaran_putih = plt.Circle((0, 0), 0.7, color='white')\n",
        "p = plt.gcf()\n",
        "p.gca().add_artist(lingkaran_putih)\n",
        "\n",
        "plt.title('Donut Chart dari DataFrame')                                                 # Judul Gambar\n",
        "plt.show()"
      ],
      "metadata": {
        "colab": {
          "base_uri": "https://localhost:8080/",
          "height": 290
        },
        "id": "yKgBu-oIqbUj",
        "outputId": "c8773603-e422-43c7-fddb-7b81ec52461f"
      },
      "execution_count": null,
      "outputs": [
        {
          "output_type": "display_data",
          "data": {
            "text/plain": [
              "<Figure size 500x300 with 1 Axes>"
            ],
            "image/png": "[encoded data removed]"
          },
          "metadata": {}
        }
      ]
    },
    {
      "cell_type": "markdown",
      "source": [
        "# Referensi Eksternal\n",
        "\n",
        "*   https://www.geeksforgeeks.org/donut-chart-using-matplotlib-in-python/\n",
        "*   https://python-graph-gallery.com/donut-plot/\n",
        "*   https://www.analyticsvidhya.com/blog/2021/06/donut-plots-data-visualization-with-python/\n",
        "*   https://www.tutorialspoint.com/donut-chart-using-matplotlib-in-python"
      ],
      "metadata": {
        "id": "sG_ASLwmuidI"
      }
    }
  ]
}